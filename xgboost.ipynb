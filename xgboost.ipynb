{
 "cells": [
  {
   "cell_type": "code",
   "execution_count": 1,
   "metadata": {
    "collapsed": false
   },
   "outputs": [
    {
     "name": "stderr",
     "output_type": "stream",
     "text": [
      "/home/jincheng/.local/lib/python2.7/site-packages/sklearn/cross_validation.py:44: DeprecationWarning: This module was deprecated in version 0.18 in favor of the model_selection module into which all the refactored classes and functions are moved. Also note that the interface of the new CV iterators are different from that of this module. This module will be removed in 0.20.\n",
      "  \"This module will be removed in 0.20.\", DeprecationWarning)\n"
     ]
    }
   ],
   "source": [
    "import numpy as np\n",
    "import pandas as pd\n",
    "import xgboost as xgb\n",
    "from sklearn.preprocessing import LabelEncoder\n",
    "import lightgbm as lgb\n",
    "import matplotlib.pyplot as plt"
   ]
  },
  {
   "cell_type": "code",
   "execution_count": 4,
   "metadata": {
    "collapsed": false
   },
   "outputs": [
    {
     "data": {
      "text/plain": [
       "(90275, 3)"
      ]
     },
     "execution_count": 4,
     "metadata": {},
     "output_type": "execute_result"
    }
   ],
   "source": [
    "## Import the data\n",
    "datapath = \"/home/jincheng/zillow/data/\"\n",
    "df_x = pd.read_csv(datapath + \"properties_2016.csv\")\n",
    "df_y = pd.read_csv(datapath + \"train_2016_v2.csv\")\n",
    "print(df_x.shape)\n",
    "print(df_y.shape)"
   ]
  },
  {
   "cell_type": "code",
   "execution_count": 13,
   "metadata": {
    "collapsed": false
   },
   "outputs": [
    {
     "name": "stdout",
     "output_type": "stream",
     "text": [
      "   parcelid  airconditioningtypeid  architecturalstyletypeid  basementsqft  \\\n",
      "0  17073783                     -1                        -1            -1   \n",
      "1  17088994                     -1                        -1            -1   \n",
      "2  17100444                     -1                        -1            -1   \n",
      "3  17102429                     -1                        -1            -1   \n",
      "4  17109604                     -1                        -1            -1   \n",
      "\n",
      "   bathroomcnt  bedroomcnt  buildingclasstypeid  buildingqualitytypeid  \\\n",
      "0          2.5           3                   -1                     -1   \n",
      "1          1.0           2                   -1                     -1   \n",
      "2          2.0           3                   -1                     -1   \n",
      "3          1.5           2                   -1                     -1   \n",
      "4          2.5           4                   -1                     -1   \n",
      "\n",
      "   calculatedbathnbr  decktypeid       ...         structuretaxvaluedollarcnt  \\\n",
      "0                2.5          -1       ...                             115087   \n",
      "1                1.0          -1       ...                             143809   \n",
      "2                2.0          -1       ...                              33619   \n",
      "3                1.5          -1       ...                              45609   \n",
      "4                2.5          -1       ...                             277000   \n",
      "\n",
      "   taxvaluedollarcnt  assessmentyear  landtaxvaluedollarcnt  taxamount  \\\n",
      "0             191811            2015                  76724    2015.06   \n",
      "1             239679            2015                  95870    2581.30   \n",
      "2              47853            2015                  14234     591.64   \n",
      "3              62914            2015                  17305     682.78   \n",
      "4             554000            2015                 277000    5886.92   \n",
      "\n",
      "   taxdelinquencyflag  taxdelinquencyyear  censustractandblock  logerror  \\\n",
      "0                   0                  -1         6.111002e+13    0.0953   \n",
      "1                   0                  -1         6.111002e+13    0.0198   \n",
      "2                   0                  -1         6.111001e+13    0.0060   \n",
      "3                   0                  -1         6.111001e+13   -0.0566   \n",
      "4                   0                  -1         6.111001e+13    0.0573   \n",
      "\n",
      "   transactiondate  \n",
      "0       2016-01-27  \n",
      "1       2016-03-30  \n",
      "2       2016-05-27  \n",
      "3       2016-06-07  \n",
      "4       2016-08-08  \n",
      "\n",
      "[5 rows x 60 columns]\n"
     ]
    }
   ],
   "source": [
    "## Fill missing value with -1\n",
    "## Not sure why this improve the outcome\n",
    "## xgboost can handle missing values, but filling missing with -1\n",
    "## essentially takes NA as a new factor level\n",
    "for c in df_x.columns:\n",
    "    df_x[c] = df_x[c].fillna(-1)\n",
    "    if df_x[c].dtype == 'object':\n",
    "        lbl = LabelEncoder()\n",
    "        lbl.fit(list(df_x[c].values))\n",
    "        df_x[c] = lbl.transform(list(df_x[c].values))\n",
    "\n",
    "data = df_x.merge(df_y, on='parcelid')\n",
    "\n",
    "## Check how data looks like\n",
    "print(data.head())"
   ]
  },
  {
   "cell_type": "code",
   "execution_count": 14,
   "metadata": {
    "collapsed": false
   },
   "outputs": [
    {
     "name": "stdout",
     "output_type": "stream",
     "text": [
      "(88525, 60)\n"
     ]
    }
   ],
   "source": [
    "## Filter outliers\n",
    "data = data[data.logerror > -0.4]\n",
    "data = data[data.logerror < 0.418]\n",
    "print(data.shape)"
   ]
  },
  {
   "cell_type": "code",
   "execution_count": 18,
   "metadata": {
    "collapsed": false
   },
   "outputs": [
    {
     "name": "stdout",
     "output_type": "stream",
     "text": [
      "Index([u'airconditioningtypeid', u'architecturalstyletypeid', u'basementsqft',\n",
      "       u'bathroomcnt', u'bedroomcnt', u'buildingclasstypeid',\n",
      "       u'buildingqualitytypeid', u'calculatedbathnbr', u'decktypeid',\n",
      "       u'finishedfloor1squarefeet', u'calculatedfinishedsquarefeet',\n",
      "       u'finishedsquarefeet12', u'finishedsquarefeet13',\n",
      "       u'finishedsquarefeet15', u'finishedsquarefeet50',\n",
      "       u'finishedsquarefeet6', u'fips', u'fireplacecnt', u'fullbathcnt',\n",
      "       u'garagecarcnt', u'garagetotalsqft', u'hashottuborspa',\n",
      "       u'heatingorsystemtypeid', u'latitude', u'longitude',\n",
      "       u'lotsizesquarefeet', u'poolcnt', u'poolsizesum', u'pooltypeid10',\n",
      "       u'pooltypeid2', u'pooltypeid7', u'propertycountylandusecode',\n",
      "       u'propertylandusetypeid', u'propertyzoningdesc',\n",
      "       u'rawcensustractandblock', u'regionidcity', u'regionidcounty',\n",
      "       u'regionidneighborhood', u'regionidzip', u'roomcnt', u'storytypeid',\n",
      "       u'threequarterbathnbr', u'typeconstructiontypeid', u'unitcnt',\n",
      "       u'yardbuildingsqft17', u'yardbuildingsqft26', u'yearbuilt',\n",
      "       u'numberofstories', u'fireplaceflag', u'structuretaxvaluedollarcnt',\n",
      "       u'taxvaluedollarcnt', u'assessmentyear', u'landtaxvaluedollarcnt',\n",
      "       u'taxamount', u'taxdelinquencyflag', u'taxdelinquencyyear',\n",
      "       u'censustractandblock'],\n",
      "      dtype='object')\n"
     ]
    }
   ],
   "source": [
    "## Prepare for training\n",
    "x_train = data.drop(['parcelid','logerror','transactiondate'], axis=1)\n",
    "x_test = df_x.drop(['parcelid'],axis=1)\n",
    "y_train = data['logerror'].values.astype(np.float32)"
   ]
  },
  {
   "cell_type": "code",
   "execution_count": null,
   "metadata": {
    "collapsed": true
   },
   "outputs": [],
   "source": [
    "dtrain = xgb.DMatrix(x_train, y_train)\n",
    "dtest = xgb.DMatrix(x_test)"
   ]
  },
  {
   "cell_type": "code",
   "execution_count": 46,
   "metadata": {
    "collapsed": false
   },
   "outputs": [
    {
     "name": "stdout",
     "output_type": "stream",
     "text": [
      "benchmarking testing MAE: 0.0532990696687\n"
     ]
    }
   ],
   "source": [
    "xgb_params = {\n",
    "    'eta': 0.037,\n",
    "    'max_depth': 5,\n",
    "    'subsample': 0.8,\n",
    "    'objective': 'reg:linear',\n",
    "    'eval_metric': 'mae',\n",
    "    'lambda': 0.8, ## L2 regularization\n",
    "    'alpha': 0.4,  ## L1 regularization\n",
    "    'base_score': 0,\n",
    "    'slient': 1\n",
    "}\n",
    "\n",
    "logerror_mean = np.mean(data['logerror'])\n",
    "print(\"benchmarking testing MAE: \" + str(np.mean(np.abs(data['logerror'] - logerror_mean))))"
   ]
  },
  {
   "cell_type": "code",
   "execution_count": 47,
   "metadata": {
    "collapsed": false
   },
   "outputs": [
    {
     "name": "stdout",
     "output_type": "stream",
     "text": [
      "[0]\ttrain-mae:0.0534846+9.9508e-05\ttest-mae:0.0534896+0.00040076\n",
      "[10]\ttrain-mae:0.0530796+9.3485e-05\ttest-mae:0.0531266+0.000395208\n",
      "[20]\ttrain-mae:0.0528554+8.45804e-05\ttest-mae:0.052943+0.000390731\n",
      "[30]\ttrain-mae:0.0527298+8.14847e-05\ttest-mae:0.0528546+0.000385366\n",
      "[40]\ttrain-mae:0.0526436+8.27493e-05\ttest-mae:0.0528006+0.000375541\n",
      "[50]\ttrain-mae:0.052586+8.31144e-05\ttest-mae:0.0527738+0.00037469\n",
      "[60]\ttrain-mae:0.052535+8.44772e-05\ttest-mae:0.0527556+0.000374857\n",
      "[70]\ttrain-mae:0.0524916+8.60339e-05\ttest-mae:0.0527428+0.000371666\n",
      "[80]\ttrain-mae:0.052451+8.70448e-05\ttest-mae:0.052731+0.000373236\n",
      "[90]\ttrain-mae:0.052415+8.9851e-05\ttest-mae:0.0527222+0.000372\n",
      "[100]\ttrain-mae:0.0523802+9.05481e-05\ttest-mae:0.0527172+0.000370526\n",
      "[110]\ttrain-mae:0.0523494+9.27353e-05\ttest-mae:0.052713+0.000368724\n",
      "[120]\ttrain-mae:0.0523164+9.23355e-05\ttest-mae:0.0527068+0.000371699\n",
      "[130]\ttrain-mae:0.052288+9.19587e-05\ttest-mae:0.052702+0.000374236\n",
      "[140]\ttrain-mae:0.0522576+9.36645e-05\ttest-mae:0.0526976+0.000373037\n",
      "[150]\ttrain-mae:0.0522308+9.66548e-05\ttest-mae:0.0526932+0.000371781\n",
      "[160]\ttrain-mae:0.0522044+9.58303e-05\ttest-mae:0.0526898+0.000374951\n",
      "[170]\ttrain-mae:0.0521752+9.67169e-05\ttest-mae:0.0526844+0.000373612\n",
      "[180]\ttrain-mae:0.052149+9.62268e-05\ttest-mae:0.0526818+0.000374331\n",
      "[190]\ttrain-mae:0.0521236+9.65103e-05\ttest-mae:0.0526792+0.000373406\n",
      "[200]\ttrain-mae:0.0520992+9.61174e-05\ttest-mae:0.0526784+0.000374265\n",
      "[210]\ttrain-mae:0.0520748+9.60758e-05\ttest-mae:0.0526774+0.000374979\n"
     ]
    }
   ],
   "source": [
    "cv_result = xgb.cv(xgb_params, dtrain,\n",
    "                  nfold = 5,\n",
    "                  num_boost_round = 500,\n",
    "                  early_stopping_rounds = 20,\n",
    "                  verbose_eval=10,\n",
    "                  show_stdv=True)"
   ]
  },
  {
   "cell_type": "code",
   "execution_count": 49,
   "metadata": {
    "collapsed": false
   },
   "outputs": [
    {
     "name": "stdout",
     "output_type": "stream",
     "text": [
      "195\n"
     ]
    }
   ],
   "source": [
    "print(\"Optimal number of trees is: \" + str(len(cv_result)))\n",
    "fit = xgb.train(xgb_params, dtrain, num_boost_round=len(cv_result))"
   ]
  },
  {
   "cell_type": "code",
   "execution_count": 50,
   "metadata": {
    "collapsed": true
   },
   "outputs": [],
   "source": [
    "## Make prediction\n",
    "y_pred = fit.predict(dtest)"
   ]
  },
  {
   "cell_type": "code",
   "execution_count": 51,
   "metadata": {
    "collapsed": false
   },
   "outputs": [
    {
     "data": {
      "image/png": "[encoded data removed]",
      "text/plain": [
       "<matplotlib.figure.Figure at 0x7f019a85dad0>"
      ]
     },
     "metadata": {},
     "output_type": "display_data"
    }
   ],
   "source": [
    "## Check distribution of prediction\n",
    "plt.hist(y_pred)\n",
    "plt.show()"
   ]
  },
  {
   "cell_type": "code",
   "execution_count": 52,
   "metadata": {
    "collapsed": false
   },
   "outputs": [],
   "source": [
    "## Format for output\n",
    "print( \"\\nFormat for output\" )\n",
    "output = pd.DataFrame({'Parcelid': df_x['parcelid'].astype(np.int32),\n",
    "                      '201610': y_pred,\n",
    "                      '201611': y_pred,\n",
    "                      '201612': y_pred,\n",
    "                      '201710': y_pred,\n",
    "                      '201711': y_pred,\n",
    "                      '201712': y_pred})\n",
    "\n",
    "cols = output.columns.tolist()\n",
    "cols = cols[-1:] + cols[:-1]\n",
    "output = output[cols]"
   ]
  },
  {
   "cell_type": "code",
   "execution_count": 54,
   "metadata": {
    "collapsed": false
   },
   "outputs": [
    {
     "name": "stdout",
     "output_type": "stream",
     "text": [
      "\n",
      "Writing results to disk ...\n"
     ]
    }
   ],
   "source": [
    "print( \"\\nWriting results to disk ...\" )\n",
    "output.to_csv(\"../result/xgboost_py1.csv\", index=False)"
   ]
  }
 ],
 "metadata": {
  "kernelspec": {
   "display_name": "Python 2",
   "language": "python",
   "name": "python2"
  },
  "language_info": {
   "codemirror_mode": {
    "name": "ipython",
    "version": 2
   },
   "file_extension": ".py",
   "mimetype": "text/x-python",
   "name": "python",
   "nbconvert_exporter": "python",
   "pygments_lexer": "ipython2",
   "version": "2.7.12"
  }
 },
 "nbformat": 4,
 "nbformat_minor": 2
}
